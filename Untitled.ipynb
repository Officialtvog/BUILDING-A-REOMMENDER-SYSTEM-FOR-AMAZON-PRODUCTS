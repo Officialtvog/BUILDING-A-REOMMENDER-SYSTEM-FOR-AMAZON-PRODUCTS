{
 "cells": [
  {
   "cell_type": "markdown",
   "metadata": {},
   "source": [
    "## BUILDING A RECOMMENDATION SYSTEM FOR AMAZON PRODUCTS"
   ]
  },
  {
   "cell_type": "markdown",
   "metadata": {},
   "source": [
    "You are welcome again to my workbook,where i would be building a recommendation system for amazon products\n",
    "\n",
    "pls,its sometimes neecsary that you have a little idea as regards recommender systems as you join me for the ride\n",
    "\n",
    "so that you wouldnt get confused........\n",
    "\n",
    "But first let me give you a quick recap of what a recommender system is\n",
    "\n",
    "***RECOMMENDATION SYSTEM:***\n",
    "    \n",
    "***This simply means an extensive class of web applications that involves predicting the user responses to the***\n",
    "    \n",
    "***options,its often  termed recomender systems.....***"
   ]
  },
  {
   "cell_type": "markdown",
   "metadata": {},
   "source": [
    "Domain ​- ​E-commerce  \n",
    "\n",
    "Context ​- ​Everyday a million products are being recommended to users based on popularity and other metrics on\n",
    "\n",
    "e-commerce websites. The most popular e-commerce website boosts average order value by 50%, increases revenues by\n",
    "\n",
    "300%, and improves conversion. In addition to being a powerful tool for increasing revenues, product\n",
    "\n",
    "recommendations are so essential that customers now expect to see similar features on all other eCommerce sites. \n",
    " \n",
    "  Source ​- ​ ​Amazon Reviews data (http://jmcauley.ucsd.edu/data/amazon/)  The repository has several datasets.\n",
    "  \n",
    "  For this case study, i am going to be using the Electronics dataset.  \n",
    " \n",
    " Objective ​- ​To make a recommendation system that recommends at least five(5) new products based on the user's\n",
    " \n",
    " habits. \n",
    " "
   ]
  },
  {
   "cell_type": "markdown",
   "metadata": {},
   "source": [
    "The data description\n",
    "\n",
    "DATA COLUMNS: first three columns are user id,product id, and ratings and the fourth column is timestamp...\n",
    "    \n",
    "i would discard the time stamp column..because in this case i wouldnt use it all...."
   ]
  },
  {
   "cell_type": "markdown",
   "metadata": {},
   "source": []
  },
  {
   "cell_type": "markdown",
   "metadata": {},
   "source": [
    "I imported the libraries that i am to use for the Building proces"
   ]
  },
  {
   "cell_type": "code",
   "execution_count": 3,
   "metadata": {},
   "outputs": [],
   "source": [
    "from IPython.core.interactiveshell import InteractiveShell\n",
    "InteractiveShell.ast_node_interactivity = \"all\"\n",
    "\n",
    "#Loading libraries\n",
    "import pandas as pd\n",
    "import matplotlib.pyplot as plt\n",
    "import sklearn.metrics as metrics\n",
    "import numpy as np\n",
    "from sklearn.neighbors import NearestNeighbors\n",
    "from sklearn.metrics.pairwise import pairwise_distances\n",
    "import warnings\n",
    "warnings.filterwarnings('ignore')\n",
    "import numpy as np\n",
    "import re\n",
    "import seaborn as sns\n",
    "import surprise\n",
    "from surprise import KNNWithMeans\n",
    "from surprise import Dataset\n",
    "from surprise import accuracy\n",
    "from surprise.model_selection import train_test_split"
   ]
  },
  {
   "cell_type": "markdown",
   "metadata": {},
   "source": [
    "You might have observed that i imported the SURPRISE LIBRARY,this is a python toolkit for building and analyzing \n",
    "\n",
    "recommender systems that deal with explicit rating data and i am also importing because it provides  scikit learn\n",
    "\n",
    "like API with model selection tools....."
   ]
  },
  {
   "cell_type": "markdown",
   "metadata": {},
   "source": [
    "Reading in the dataset"
   ]
  },
  {
   "cell_type": "code",
   "execution_count": 4,
   "metadata": {},
   "outputs": [
    {
     "data": {
      "text/html": [
       "<div>\n",
       "<style scoped>\n",
       "    .dataframe tbody tr th:only-of-type {\n",
       "        vertical-align: middle;\n",
       "    }\n",
       "\n",
       "    .dataframe tbody tr th {\n",
       "        vertical-align: top;\n",
       "    }\n",
       "\n",
       "    .dataframe thead th {\n",
       "        text-align: right;\n",
       "    }\n",
       "</style>\n",
       "<table border=\"1\" class=\"dataframe\">\n",
       "  <thead>\n",
       "    <tr style=\"text-align: right;\">\n",
       "      <th></th>\n",
       "      <th>AKM1MP6P0OYPR</th>\n",
       "      <th>0132793040</th>\n",
       "      <th>5.0</th>\n",
       "      <th>1365811200</th>\n",
       "    </tr>\n",
       "  </thead>\n",
       "  <tbody>\n",
       "    <tr>\n",
       "      <th>0</th>\n",
       "      <td>A2CX7LUOHB2NDG</td>\n",
       "      <td>0321732944</td>\n",
       "      <td>5.0</td>\n",
       "      <td>1341100800</td>\n",
       "    </tr>\n",
       "    <tr>\n",
       "      <th>1</th>\n",
       "      <td>A2NWSAGRHCP8N5</td>\n",
       "      <td>0439886341</td>\n",
       "      <td>1.0</td>\n",
       "      <td>1367193600</td>\n",
       "    </tr>\n",
       "    <tr>\n",
       "      <th>2</th>\n",
       "      <td>A2WNBOD3WNDNKT</td>\n",
       "      <td>0439886341</td>\n",
       "      <td>3.0</td>\n",
       "      <td>1374451200</td>\n",
       "    </tr>\n",
       "    <tr>\n",
       "      <th>3</th>\n",
       "      <td>A1GI0U4ZRJA8WN</td>\n",
       "      <td>0439886341</td>\n",
       "      <td>1.0</td>\n",
       "      <td>1334707200</td>\n",
       "    </tr>\n",
       "    <tr>\n",
       "      <th>4</th>\n",
       "      <td>A1QGNMC6O1VW39</td>\n",
       "      <td>0511189877</td>\n",
       "      <td>5.0</td>\n",
       "      <td>1397433600</td>\n",
       "    </tr>\n",
       "  </tbody>\n",
       "</table>\n",
       "</div>"
      ],
      "text/plain": [
       "    AKM1MP6P0OYPR  0132793040  5.0  1365811200\n",
       "0  A2CX7LUOHB2NDG  0321732944  5.0  1341100800\n",
       "1  A2NWSAGRHCP8N5  0439886341  1.0  1367193600\n",
       "2  A2WNBOD3WNDNKT  0439886341  3.0  1374451200\n",
       "3  A1GI0U4ZRJA8WN  0439886341  1.0  1334707200\n",
       "4  A1QGNMC6O1VW39  0511189877  5.0  1397433600"
      ]
     },
     "execution_count": 4,
     "metadata": {},
     "output_type": "execute_result"
    }
   ],
   "source": [
    "Data = pd.read_csv('ratings_Electronics.csv')\n",
    "Data.head()"
   ]
  },
  {
   "cell_type": "markdown",
   "metadata": {},
   "source": [
    "SO we had to take 10% of the data because the data was extremely large,and it was clustering the memory....."
   ]
  },
  {
   "cell_type": "code",
   "execution_count": 5,
   "metadata": {},
   "outputs": [],
   "source": [
    "# Take the 10% Data as the Data is Huge and was cluttering the memory\n",
    "Data =  Data.iloc[:782448]"
   ]
  },
  {
   "cell_type": "markdown",
   "metadata": {},
   "source": [
    "From above the dataset,shows that there were no names to show the \"USERID\",\"PRODUCT ID\",\"RATING\",\"TIMESTAMP\""
   ]
  },
  {
   "cell_type": "code",
   "execution_count": 6,
   "metadata": {},
   "outputs": [],
   "source": [
    "#read the Dataset\n",
    "Data = pd.read_csv('ratings_Electronics.csv',names=['userId', 'productId','Rating','timestamp'])\n"
   ]
  },
  {
   "cell_type": "markdown",
   "metadata": {},
   "source": [
    "basic procedures of dealing with a dataset is taking a quick look at the dataset by checking the first 5 rows"
   ]
  },
  {
   "cell_type": "code",
   "execution_count": 7,
   "metadata": {},
   "outputs": [
    {
     "data": {
      "text/html": [
       "<div>\n",
       "<style scoped>\n",
       "    .dataframe tbody tr th:only-of-type {\n",
       "        vertical-align: middle;\n",
       "    }\n",
       "\n",
       "    .dataframe tbody tr th {\n",
       "        vertical-align: top;\n",
       "    }\n",
       "\n",
       "    .dataframe thead th {\n",
       "        text-align: right;\n",
       "    }\n",
       "</style>\n",
       "<table border=\"1\" class=\"dataframe\">\n",
       "  <thead>\n",
       "    <tr style=\"text-align: right;\">\n",
       "      <th></th>\n",
       "      <th>userId</th>\n",
       "      <th>productId</th>\n",
       "      <th>Rating</th>\n",
       "      <th>timestamp</th>\n",
       "    </tr>\n",
       "  </thead>\n",
       "  <tbody>\n",
       "    <tr>\n",
       "      <th>0</th>\n",
       "      <td>AKM1MP6P0OYPR</td>\n",
       "      <td>0132793040</td>\n",
       "      <td>5.0</td>\n",
       "      <td>1365811200</td>\n",
       "    </tr>\n",
       "    <tr>\n",
       "      <th>1</th>\n",
       "      <td>A2CX7LUOHB2NDG</td>\n",
       "      <td>0321732944</td>\n",
       "      <td>5.0</td>\n",
       "      <td>1341100800</td>\n",
       "    </tr>\n",
       "    <tr>\n",
       "      <th>2</th>\n",
       "      <td>A2NWSAGRHCP8N5</td>\n",
       "      <td>0439886341</td>\n",
       "      <td>1.0</td>\n",
       "      <td>1367193600</td>\n",
       "    </tr>\n",
       "    <tr>\n",
       "      <th>3</th>\n",
       "      <td>A2WNBOD3WNDNKT</td>\n",
       "      <td>0439886341</td>\n",
       "      <td>3.0</td>\n",
       "      <td>1374451200</td>\n",
       "    </tr>\n",
       "    <tr>\n",
       "      <th>4</th>\n",
       "      <td>A1GI0U4ZRJA8WN</td>\n",
       "      <td>0439886341</td>\n",
       "      <td>1.0</td>\n",
       "      <td>1334707200</td>\n",
       "    </tr>\n",
       "  </tbody>\n",
       "</table>\n",
       "</div>"
      ],
      "text/plain": [
       "           userId   productId  Rating   timestamp\n",
       "0   AKM1MP6P0OYPR  0132793040     5.0  1365811200\n",
       "1  A2CX7LUOHB2NDG  0321732944     5.0  1341100800\n",
       "2  A2NWSAGRHCP8N5  0439886341     1.0  1367193600\n",
       "3  A2WNBOD3WNDNKT  0439886341     3.0  1374451200\n",
       "4  A1GI0U4ZRJA8WN  0439886341     1.0  1334707200"
      ]
     },
     "execution_count": 7,
     "metadata": {},
     "output_type": "execute_result"
    }
   ],
   "source": [
    "Data.head()"
   ]
  },
  {
   "cell_type": "code",
   "execution_count": 8,
   "metadata": {},
   "outputs": [
    {
     "data": {
      "text/plain": [
       "userId        object\n",
       "productId     object\n",
       "Rating       float64\n",
       "timestamp      int64\n",
       "dtype: object"
      ]
     },
     "execution_count": 8,
     "metadata": {},
     "output_type": "execute_result"
    }
   ],
   "source": [
    "Data.dtypes"
   ]
  },
  {
   "cell_type": "code",
   "execution_count": 9,
   "metadata": {},
   "outputs": [
    {
     "data": {
      "text/plain": [
       "(7824482, 4)"
      ]
     },
     "execution_count": 9,
     "metadata": {},
     "output_type": "execute_result"
    }
   ],
   "source": [
    "Data.shape"
   ]
  },
  {
   "cell_type": "code",
   "execution_count": null,
   "metadata": {},
   "outputs": [],
   "source": []
  },
  {
   "cell_type": "code",
   "execution_count": 10,
   "metadata": {},
   "outputs": [],
   "source": [
    "# Take the 10% Data as the Data is Huge and was cluttering the memory\n",
    "Data =  Data.iloc[:782448]"
   ]
  },
  {
   "cell_type": "code",
   "execution_count": 11,
   "metadata": {},
   "outputs": [
    {
     "data": {
      "text/plain": [
       "(782448, 4)"
      ]
     },
     "execution_count": 11,
     "metadata": {},
     "output_type": "execute_result"
    }
   ],
   "source": [
    "Data.shape"
   ]
  },
  {
   "cell_type": "markdown",
   "metadata": {},
   "source": [
    "When building a recommendation system is expected to note that,we check for the minimum rating and maximum rating\n",
    "\n",
    "because we would need to neccesarily know them for further dealings in the process of building a reccomender system"
   ]
  },
  {
   "cell_type": "code",
   "execution_count": 12,
   "metadata": {},
   "outputs": [
    {
     "name": "stdout",
     "output_type": "stream",
     "text": [
      "The minimum rating is: 1\n",
      "The maximum rating is: 5\n"
     ]
    }
   ],
   "source": [
    "# find minimum and maximum ratings\n",
    "print('The minimum rating is: %d' %(Data['Rating'].min()))\n",
    "print('The maximum rating is: %d' %(Data['Rating'].max()))"
   ]
  },
  {
   "cell_type": "markdown",
   "metadata": {},
   "source": [
    "We would take a sneek pick on the USER ID and RATING doing  a groupby and sorting the values"
   ]
  },
  {
   "cell_type": "code",
   "execution_count": 19,
   "metadata": {},
   "outputs": [
    {
     "data": {
      "text/plain": [
       "userId\n",
       "A2W4G6C7I84MS9    5.0\n",
       "A1O6EQJ9A2MV9Z    5.0\n",
       "A1O6F2TRUAGBFD    5.0\n",
       "A3DO545GPBJQVL    5.0\n",
       "A3DO6B80J60641    5.0\n",
       "A1O6F1HAFWJCX2    5.0\n",
       "A3DO6XO8WQYRF5    5.0\n",
       "A3DO6YJ87GYC3G    5.0\n",
       "A3DO8PUU4DLF6W    5.0\n",
       "A3DO9VJHDA9D8B    5.0\n",
       "Name: Rating, dtype: float64"
      ]
     },
     "execution_count": 19,
     "metadata": {},
     "output_type": "execute_result"
    }
   ],
   "source": [
    "Data.groupby('userId')['Rating'].mean().sort_values(ascending=False).head(10)  "
   ]
  },
  {
   "cell_type": "markdown",
   "metadata": {},
   "source": [
    "Next on the line,is actually showing the distribution in the range of 1-5 for the data given,we would use the \n",
    "\n",
    "seaborn to bring that to a realistic  view....."
   ]
  },
  {
   "cell_type": "code",
   "execution_count": 18,
   "metadata": {},
   "outputs": [
    {
     "data": {
      "text/plain": [
       "<seaborn.axisgrid.FacetGrid at 0x2edac72a888>"
      ]
     },
     "execution_count": 18,
     "metadata": {},
     "output_type": "execute_result"
    },
    {
     "data": {
      "image/png": "[encoded data removed]",
      "text/plain": [
       "<Figure size 720x360 with 1 Axes>"
      ]
     },
     "metadata": {},
     "output_type": "display_data"
    }
   ],
   "source": [
    " with sns.axes_style('white'):\n",
    "    g = sns.factorplot(\"Rating\", data=Data, aspect=2.0,kind='count')\n",
    "    g.set_ylabels(\"Total number of ratings\")"
   ]
  },
  {
   "cell_type": "markdown",
   "metadata": {},
   "source": [
    "From the above plot,we can see which of the rating that tends to be more....\n",
    "\n",
    "5.0 holds the highest....\n",
    "\n",
    "4.0 follows\n",
    "\n",
    "then 1.0\n",
    "\n",
    "then 3.0\n",
    "\n",
    "\n",
    "and 2.0....."
   ]
  },
  {
   "cell_type": "code",
   "execution_count": 20,
   "metadata": {},
   "outputs": [
    {
     "name": "stdout",
     "output_type": "stream",
     "text": [
      "Total data \n",
      "**************************************************\n",
      "\n",
      "Total no of ratings : 782448\n",
      "Total No of Users   : 606149\n",
      "Total No of products  : 47105\n"
     ]
    }
   ],
   "source": [
    "print(\"Total data \")\n",
    "print(\"*\"*50)\n",
    "print(\"\\nTotal no of ratings :\",Data.shape[0])\n",
    "print(\"Total No of Users   :\", len(np.unique(Data.userId)))\n",
    "print(\"Total No of products  :\", len(np.unique(Data.productId)))"
   ]
  },
  {
   "cell_type": "markdown",
   "metadata": {},
   "source": [
    "we can see the numbers vary,pls dont panic...its as a result that the number of users possibly will \n",
    "\n",
    "check differtn products and also give ratings for the different products also........"
   ]
  },
  {
   "cell_type": "code",
   "execution_count": null,
   "metadata": {},
   "outputs": [],
   "source": []
  },
  {
   "cell_type": "markdown",
   "metadata": {},
   "source": [
    "Now we are going to keep the users,where the user has rated more than 50."
   ]
  },
  {
   "cell_type": "code",
   "execution_count": 16,
   "metadata": {},
   "outputs": [],
   "source": [
    " counts1 = Data['userId'].value_counts()\n",
    "#print(counts1)\n",
    "Data_new = Data[Data['userId'].isin(counts1[counts1 >= 50].index)]\n",
    "#counts1"
   ]
  },
  {
   "cell_type": "markdown",
   "metadata": {},
   "source": [
    "highest rated products from the selected records......"
   ]
  },
  {
   "cell_type": "code",
   "execution_count": 16,
   "metadata": {},
   "outputs": [
    {
     "data": {
      "text/plain": [
       "productId\n",
       "B00004Y284    5.0\n",
       "B0000513SA    5.0\n",
       "B000068BRE    5.0\n",
       "B0000DJEIP    5.0\n",
       "B00007J8SB    5.0\n",
       "             ... \n",
       "B0001LGXO0    1.0\n",
       "B0001PFO3C    1.0\n",
       "B0001WNKBI    1.0\n",
       "B0001X6GEK    1.0\n",
       "1400532655    1.0\n",
       "Name: Rating, Length: 2207, dtype: float64"
      ]
     },
     "execution_count": 16,
     "metadata": {},
     "output_type": "execute_result"
    }
   ],
   "source": [
    " Data_new.groupby('productId')['Rating'].mean().sort_values(ascending=False) "
   ]
  },
  {
   "cell_type": "markdown",
   "metadata": {},
   "source": [
    "Calculating the density of the rating matrix,this is very essential because, we would see the \n",
    "\n",
    "shape of the  final ratings matrix\n",
    "\n",
    "given number of ratings\n",
    "\n",
    "possible number of ratings\n",
    "\n"
   ]
  },
  {
   "cell_type": "code",
   "execution_count": 17,
   "metadata": {},
   "outputs": [
    {
     "name": "stdout",
     "output_type": "stream",
     "text": [
      "Shape of final_ratings_matrix:  (27, 2207)\n",
      "given_num_of_ratings =  2550\n",
      "possible_num_of_ratings =  59589\n",
      "density: 4.28%\n"
     ]
    }
   ],
   "source": [
    "\n",
    "\n",
    "final_ratings_matrix = Data_new.pivot(index = 'userId', columns ='productId', values = 'Rating').fillna(0)\n",
    "print('Shape of final_ratings_matrix: ', final_ratings_matrix.shape)\n",
    "\n",
    "given_num_of_ratings = np.count_nonzero(final_ratings_matrix)\n",
    "print('given_num_of_ratings = ', given_num_of_ratings)\n",
    "possible_num_of_ratings = final_ratings_matrix.shape[0] * final_ratings_matrix.shape[1]\n",
    "print('possible_num_of_ratings = ', possible_num_of_ratings)\n",
    "density = (given_num_of_ratings/possible_num_of_ratings)\n",
    "density *= 100\n",
    "print ('density: {:4.2f}%'.format(density))"
   ]
  },
  {
   "cell_type": "code",
   "execution_count": null,
   "metadata": {},
   "outputs": [],
   "source": []
  },
  {
   "cell_type": "code",
   "execution_count": 18,
   "metadata": {},
   "outputs": [
    {
     "data": {
      "text/html": [
       "<div>\n",
       "<style scoped>\n",
       "    .dataframe tbody tr th:only-of-type {\n",
       "        vertical-align: middle;\n",
       "    }\n",
       "\n",
       "    .dataframe tbody tr th {\n",
       "        vertical-align: top;\n",
       "    }\n",
       "\n",
       "    .dataframe thead th {\n",
       "        text-align: right;\n",
       "    }\n",
       "</style>\n",
       "<table border=\"1\" class=\"dataframe\">\n",
       "  <thead>\n",
       "    <tr style=\"text-align: right;\">\n",
       "      <th>productId</th>\n",
       "      <th>1400532655</th>\n",
       "      <th>B000000O48</th>\n",
       "      <th>B000001OL6</th>\n",
       "      <th>B000001OMN</th>\n",
       "      <th>B00000J05A</th>\n",
       "      <th>B00000J061</th>\n",
       "      <th>B00000J0E8</th>\n",
       "      <th>B00000J1E6</th>\n",
       "      <th>B00000J1EP</th>\n",
       "      <th>B00000J1G6</th>\n",
       "      <th>...</th>\n",
       "      <th>B000BQ57BU</th>\n",
       "      <th>B000BQ7GW8</th>\n",
       "      <th>B000BQVYIA</th>\n",
       "      <th>B000BSLTIS</th>\n",
       "      <th>B000BSLTMY</th>\n",
       "      <th>B000BSOBG0</th>\n",
       "      <th>B000BTFZZA</th>\n",
       "      <th>B000BTL0OA</th>\n",
       "      <th>B000BTPVHW</th>\n",
       "      <th>B000BTQXUG</th>\n",
       "    </tr>\n",
       "    <tr>\n",
       "      <th>userId</th>\n",
       "      <th></th>\n",
       "      <th></th>\n",
       "      <th></th>\n",
       "      <th></th>\n",
       "      <th></th>\n",
       "      <th></th>\n",
       "      <th></th>\n",
       "      <th></th>\n",
       "      <th></th>\n",
       "      <th></th>\n",
       "      <th></th>\n",
       "      <th></th>\n",
       "      <th></th>\n",
       "      <th></th>\n",
       "      <th></th>\n",
       "      <th></th>\n",
       "      <th></th>\n",
       "      <th></th>\n",
       "      <th></th>\n",
       "      <th></th>\n",
       "      <th></th>\n",
       "    </tr>\n",
       "  </thead>\n",
       "  <tbody>\n",
       "    <tr>\n",
       "      <th>A11D1KHM7DVOQK</th>\n",
       "      <td>0.0</td>\n",
       "      <td>0.0</td>\n",
       "      <td>0.0</td>\n",
       "      <td>2.0</td>\n",
       "      <td>0.0</td>\n",
       "      <td>0.0</td>\n",
       "      <td>0.0</td>\n",
       "      <td>0.0</td>\n",
       "      <td>0.0</td>\n",
       "      <td>1.0</td>\n",
       "      <td>...</td>\n",
       "      <td>0.0</td>\n",
       "      <td>0.0</td>\n",
       "      <td>0.0</td>\n",
       "      <td>0.0</td>\n",
       "      <td>0.0</td>\n",
       "      <td>0.0</td>\n",
       "      <td>0.0</td>\n",
       "      <td>0.0</td>\n",
       "      <td>0.0</td>\n",
       "      <td>0.0</td>\n",
       "    </tr>\n",
       "    <tr>\n",
       "      <th>A12DLJESJKM1OQ</th>\n",
       "      <td>0.0</td>\n",
       "      <td>0.0</td>\n",
       "      <td>0.0</td>\n",
       "      <td>0.0</td>\n",
       "      <td>0.0</td>\n",
       "      <td>0.0</td>\n",
       "      <td>0.0</td>\n",
       "      <td>0.0</td>\n",
       "      <td>0.0</td>\n",
       "      <td>0.0</td>\n",
       "      <td>...</td>\n",
       "      <td>0.0</td>\n",
       "      <td>0.0</td>\n",
       "      <td>0.0</td>\n",
       "      <td>0.0</td>\n",
       "      <td>0.0</td>\n",
       "      <td>0.0</td>\n",
       "      <td>0.0</td>\n",
       "      <td>0.0</td>\n",
       "      <td>0.0</td>\n",
       "      <td>0.0</td>\n",
       "    </tr>\n",
       "    <tr>\n",
       "      <th>A149RNR5RH19YY</th>\n",
       "      <td>0.0</td>\n",
       "      <td>0.0</td>\n",
       "      <td>0.0</td>\n",
       "      <td>0.0</td>\n",
       "      <td>0.0</td>\n",
       "      <td>0.0</td>\n",
       "      <td>0.0</td>\n",
       "      <td>0.0</td>\n",
       "      <td>0.0</td>\n",
       "      <td>0.0</td>\n",
       "      <td>...</td>\n",
       "      <td>0.0</td>\n",
       "      <td>0.0</td>\n",
       "      <td>0.0</td>\n",
       "      <td>0.0</td>\n",
       "      <td>0.0</td>\n",
       "      <td>0.0</td>\n",
       "      <td>0.0</td>\n",
       "      <td>5.0</td>\n",
       "      <td>0.0</td>\n",
       "      <td>0.0</td>\n",
       "    </tr>\n",
       "    <tr>\n",
       "      <th>A1F9Z42CFF9IAY</th>\n",
       "      <td>0.0</td>\n",
       "      <td>0.0</td>\n",
       "      <td>0.0</td>\n",
       "      <td>0.0</td>\n",
       "      <td>0.0</td>\n",
       "      <td>0.0</td>\n",
       "      <td>0.0</td>\n",
       "      <td>0.0</td>\n",
       "      <td>0.0</td>\n",
       "      <td>0.0</td>\n",
       "      <td>...</td>\n",
       "      <td>0.0</td>\n",
       "      <td>0.0</td>\n",
       "      <td>0.0</td>\n",
       "      <td>0.0</td>\n",
       "      <td>0.0</td>\n",
       "      <td>0.0</td>\n",
       "      <td>0.0</td>\n",
       "      <td>0.0</td>\n",
       "      <td>0.0</td>\n",
       "      <td>0.0</td>\n",
       "    </tr>\n",
       "    <tr>\n",
       "      <th>A1FR68QH6Z4YZM</th>\n",
       "      <td>0.0</td>\n",
       "      <td>0.0</td>\n",
       "      <td>0.0</td>\n",
       "      <td>0.0</td>\n",
       "      <td>0.0</td>\n",
       "      <td>0.0</td>\n",
       "      <td>0.0</td>\n",
       "      <td>0.0</td>\n",
       "      <td>0.0</td>\n",
       "      <td>0.0</td>\n",
       "      <td>...</td>\n",
       "      <td>0.0</td>\n",
       "      <td>0.0</td>\n",
       "      <td>0.0</td>\n",
       "      <td>0.0</td>\n",
       "      <td>0.0</td>\n",
       "      <td>0.0</td>\n",
       "      <td>0.0</td>\n",
       "      <td>0.0</td>\n",
       "      <td>0.0</td>\n",
       "      <td>0.0</td>\n",
       "    </tr>\n",
       "  </tbody>\n",
       "</table>\n",
       "<p>5 rows × 2207 columns</p>\n",
       "</div>"
      ],
      "text/plain": [
       "productId       1400532655  B000000O48  B000001OL6  B000001OMN  B00000J05A  \\\n",
       "userId                                                                       \n",
       "A11D1KHM7DVOQK         0.0         0.0         0.0         2.0         0.0   \n",
       "A12DLJESJKM1OQ         0.0         0.0         0.0         0.0         0.0   \n",
       "A149RNR5RH19YY         0.0         0.0         0.0         0.0         0.0   \n",
       "A1F9Z42CFF9IAY         0.0         0.0         0.0         0.0         0.0   \n",
       "A1FR68QH6Z4YZM         0.0         0.0         0.0         0.0         0.0   \n",
       "\n",
       "productId       B00000J061  B00000J0E8  B00000J1E6  B00000J1EP  B00000J1G6  \\\n",
       "userId                                                                       \n",
       "A11D1KHM7DVOQK         0.0         0.0         0.0         0.0         1.0   \n",
       "A12DLJESJKM1OQ         0.0         0.0         0.0         0.0         0.0   \n",
       "A149RNR5RH19YY         0.0         0.0         0.0         0.0         0.0   \n",
       "A1F9Z42CFF9IAY         0.0         0.0         0.0         0.0         0.0   \n",
       "A1FR68QH6Z4YZM         0.0         0.0         0.0         0.0         0.0   \n",
       "\n",
       "productId       ...  B000BQ57BU  B000BQ7GW8  B000BQVYIA  B000BSLTIS  \\\n",
       "userId          ...                                                   \n",
       "A11D1KHM7DVOQK  ...         0.0         0.0         0.0         0.0   \n",
       "A12DLJESJKM1OQ  ...         0.0         0.0         0.0         0.0   \n",
       "A149RNR5RH19YY  ...         0.0         0.0         0.0         0.0   \n",
       "A1F9Z42CFF9IAY  ...         0.0         0.0         0.0         0.0   \n",
       "A1FR68QH6Z4YZM  ...         0.0         0.0         0.0         0.0   \n",
       "\n",
       "productId       B000BSLTMY  B000BSOBG0  B000BTFZZA  B000BTL0OA  B000BTPVHW  \\\n",
       "userId                                                                       \n",
       "A11D1KHM7DVOQK         0.0         0.0         0.0         0.0         0.0   \n",
       "A12DLJESJKM1OQ         0.0         0.0         0.0         0.0         0.0   \n",
       "A149RNR5RH19YY         0.0         0.0         0.0         5.0         0.0   \n",
       "A1F9Z42CFF9IAY         0.0         0.0         0.0         0.0         0.0   \n",
       "A1FR68QH6Z4YZM         0.0         0.0         0.0         0.0         0.0   \n",
       "\n",
       "productId       B000BTQXUG  \n",
       "userId                      \n",
       "A11D1KHM7DVOQK         0.0  \n",
       "A12DLJESJKM1OQ         0.0  \n",
       "A149RNR5RH19YY         0.0  \n",
       "A1F9Z42CFF9IAY         0.0  \n",
       "A1FR68QH6Z4YZM         0.0  \n",
       "\n",
       "[5 rows x 2207 columns]"
      ]
     },
     "execution_count": 18,
     "metadata": {},
     "output_type": "execute_result"
    }
   ],
   "source": [
    "final_ratings_matrix.head()"
   ]
  },
  {
   "cell_type": "markdown",
   "metadata": {},
   "source": [
    "***matrix with one row per product and one column per user for ITEM BASED CALLOBORATIVE FILTERING*** "
   ]
  },
  {
   "cell_type": "code",
   "execution_count": 19,
   "metadata": {},
   "outputs": [
    {
     "data": {
      "text/html": [
       "<div>\n",
       "<style scoped>\n",
       "    .dataframe tbody tr th:only-of-type {\n",
       "        vertical-align: middle;\n",
       "    }\n",
       "\n",
       "    .dataframe tbody tr th {\n",
       "        vertical-align: top;\n",
       "    }\n",
       "\n",
       "    .dataframe thead th {\n",
       "        text-align: right;\n",
       "    }\n",
       "</style>\n",
       "<table border=\"1\" class=\"dataframe\">\n",
       "  <thead>\n",
       "    <tr style=\"text-align: right;\">\n",
       "      <th>userId</th>\n",
       "      <th>A11D1KHM7DVOQK</th>\n",
       "      <th>A12DLJESJKM1OQ</th>\n",
       "      <th>A149RNR5RH19YY</th>\n",
       "      <th>A1F9Z42CFF9IAY</th>\n",
       "      <th>A1FR68QH6Z4YZM</th>\n",
       "      <th>A1JWSDDIH5Z7DV</th>\n",
       "      <th>A1MJMYLRTZ76ZX</th>\n",
       "      <th>A1RPTVW5VEOSI</th>\n",
       "      <th>A203OCQQ12MAVT</th>\n",
       "      <th>A231WM2Z2JL0U3</th>\n",
       "      <th>...</th>\n",
       "      <th>A3OXHLG6DIBRW8</th>\n",
       "      <th>A5JLAU2ARJ0BO</th>\n",
       "      <th>A6FIAB28IS79</th>\n",
       "      <th>A7Y6AVS576M03</th>\n",
       "      <th>ABH9D1TEOJ56E</th>\n",
       "      <th>AGHZXQL9F94T9</th>\n",
       "      <th>AGXV8E7XK9J6H</th>\n",
       "      <th>AKT8TGIT6VVZ5</th>\n",
       "      <th>AT2J7H5TRZM8Z</th>\n",
       "      <th>AT6CZDCP4TRGA</th>\n",
       "    </tr>\n",
       "    <tr>\n",
       "      <th>productId</th>\n",
       "      <th></th>\n",
       "      <th></th>\n",
       "      <th></th>\n",
       "      <th></th>\n",
       "      <th></th>\n",
       "      <th></th>\n",
       "      <th></th>\n",
       "      <th></th>\n",
       "      <th></th>\n",
       "      <th></th>\n",
       "      <th></th>\n",
       "      <th></th>\n",
       "      <th></th>\n",
       "      <th></th>\n",
       "      <th></th>\n",
       "      <th></th>\n",
       "      <th></th>\n",
       "      <th></th>\n",
       "      <th></th>\n",
       "      <th></th>\n",
       "      <th></th>\n",
       "    </tr>\n",
       "  </thead>\n",
       "  <tbody>\n",
       "    <tr>\n",
       "      <th>1400532655</th>\n",
       "      <td>0.0</td>\n",
       "      <td>0.0</td>\n",
       "      <td>0.0</td>\n",
       "      <td>0.0</td>\n",
       "      <td>0.0</td>\n",
       "      <td>0.0</td>\n",
       "      <td>0.0</td>\n",
       "      <td>0.0</td>\n",
       "      <td>0.0</td>\n",
       "      <td>0.0</td>\n",
       "      <td>...</td>\n",
       "      <td>0.0</td>\n",
       "      <td>1.0</td>\n",
       "      <td>0.0</td>\n",
       "      <td>0.0</td>\n",
       "      <td>0.0</td>\n",
       "      <td>0.0</td>\n",
       "      <td>0.0</td>\n",
       "      <td>0.0</td>\n",
       "      <td>0.0</td>\n",
       "      <td>0.0</td>\n",
       "    </tr>\n",
       "    <tr>\n",
       "      <th>B000000O48</th>\n",
       "      <td>0.0</td>\n",
       "      <td>0.0</td>\n",
       "      <td>0.0</td>\n",
       "      <td>0.0</td>\n",
       "      <td>0.0</td>\n",
       "      <td>0.0</td>\n",
       "      <td>0.0</td>\n",
       "      <td>0.0</td>\n",
       "      <td>0.0</td>\n",
       "      <td>0.0</td>\n",
       "      <td>...</td>\n",
       "      <td>0.0</td>\n",
       "      <td>0.0</td>\n",
       "      <td>0.0</td>\n",
       "      <td>0.0</td>\n",
       "      <td>0.0</td>\n",
       "      <td>0.0</td>\n",
       "      <td>0.0</td>\n",
       "      <td>0.0</td>\n",
       "      <td>0.0</td>\n",
       "      <td>0.0</td>\n",
       "    </tr>\n",
       "    <tr>\n",
       "      <th>B000001OL6</th>\n",
       "      <td>0.0</td>\n",
       "      <td>0.0</td>\n",
       "      <td>0.0</td>\n",
       "      <td>0.0</td>\n",
       "      <td>0.0</td>\n",
       "      <td>0.0</td>\n",
       "      <td>0.0</td>\n",
       "      <td>0.0</td>\n",
       "      <td>0.0</td>\n",
       "      <td>0.0</td>\n",
       "      <td>...</td>\n",
       "      <td>0.0</td>\n",
       "      <td>0.0</td>\n",
       "      <td>0.0</td>\n",
       "      <td>0.0</td>\n",
       "      <td>0.0</td>\n",
       "      <td>0.0</td>\n",
       "      <td>0.0</td>\n",
       "      <td>0.0</td>\n",
       "      <td>0.0</td>\n",
       "      <td>0.0</td>\n",
       "    </tr>\n",
       "    <tr>\n",
       "      <th>B000001OMN</th>\n",
       "      <td>2.0</td>\n",
       "      <td>0.0</td>\n",
       "      <td>0.0</td>\n",
       "      <td>0.0</td>\n",
       "      <td>0.0</td>\n",
       "      <td>0.0</td>\n",
       "      <td>0.0</td>\n",
       "      <td>0.0</td>\n",
       "      <td>0.0</td>\n",
       "      <td>0.0</td>\n",
       "      <td>...</td>\n",
       "      <td>0.0</td>\n",
       "      <td>0.0</td>\n",
       "      <td>0.0</td>\n",
       "      <td>0.0</td>\n",
       "      <td>0.0</td>\n",
       "      <td>0.0</td>\n",
       "      <td>0.0</td>\n",
       "      <td>0.0</td>\n",
       "      <td>0.0</td>\n",
       "      <td>0.0</td>\n",
       "    </tr>\n",
       "    <tr>\n",
       "      <th>B00000J05A</th>\n",
       "      <td>0.0</td>\n",
       "      <td>0.0</td>\n",
       "      <td>0.0</td>\n",
       "      <td>0.0</td>\n",
       "      <td>0.0</td>\n",
       "      <td>0.0</td>\n",
       "      <td>0.0</td>\n",
       "      <td>0.0</td>\n",
       "      <td>0.0</td>\n",
       "      <td>0.0</td>\n",
       "      <td>...</td>\n",
       "      <td>0.0</td>\n",
       "      <td>0.0</td>\n",
       "      <td>3.0</td>\n",
       "      <td>0.0</td>\n",
       "      <td>0.0</td>\n",
       "      <td>0.0</td>\n",
       "      <td>0.0</td>\n",
       "      <td>0.0</td>\n",
       "      <td>0.0</td>\n",
       "      <td>0.0</td>\n",
       "    </tr>\n",
       "  </tbody>\n",
       "</table>\n",
       "<p>5 rows × 27 columns</p>\n",
       "</div>"
      ],
      "text/plain": [
       "userId      A11D1KHM7DVOQK  A12DLJESJKM1OQ  A149RNR5RH19YY  A1F9Z42CFF9IAY  \\\n",
       "productId                                                                    \n",
       "1400532655             0.0             0.0             0.0             0.0   \n",
       "B000000O48             0.0             0.0             0.0             0.0   \n",
       "B000001OL6             0.0             0.0             0.0             0.0   \n",
       "B000001OMN             2.0             0.0             0.0             0.0   \n",
       "B00000J05A             0.0             0.0             0.0             0.0   \n",
       "\n",
       "userId      A1FR68QH6Z4YZM  A1JWSDDIH5Z7DV  A1MJMYLRTZ76ZX  A1RPTVW5VEOSI  \\\n",
       "productId                                                                   \n",
       "1400532655             0.0             0.0             0.0            0.0   \n",
       "B000000O48             0.0             0.0             0.0            0.0   \n",
       "B000001OL6             0.0             0.0             0.0            0.0   \n",
       "B000001OMN             0.0             0.0             0.0            0.0   \n",
       "B00000J05A             0.0             0.0             0.0            0.0   \n",
       "\n",
       "userId      A203OCQQ12MAVT  A231WM2Z2JL0U3  ...  A3OXHLG6DIBRW8  \\\n",
       "productId                                   ...                   \n",
       "1400532655             0.0             0.0  ...             0.0   \n",
       "B000000O48             0.0             0.0  ...             0.0   \n",
       "B000001OL6             0.0             0.0  ...             0.0   \n",
       "B000001OMN             0.0             0.0  ...             0.0   \n",
       "B00000J05A             0.0             0.0  ...             0.0   \n",
       "\n",
       "userId      A5JLAU2ARJ0BO  A6FIAB28IS79  A7Y6AVS576M03  ABH9D1TEOJ56E  \\\n",
       "productId                                                               \n",
       "1400532655            1.0           0.0            0.0            0.0   \n",
       "B000000O48            0.0           0.0            0.0            0.0   \n",
       "B000001OL6            0.0           0.0            0.0            0.0   \n",
       "B000001OMN            0.0           0.0            0.0            0.0   \n",
       "B00000J05A            0.0           3.0            0.0            0.0   \n",
       "\n",
       "userId      AGHZXQL9F94T9  AGXV8E7XK9J6H  AKT8TGIT6VVZ5  AT2J7H5TRZM8Z  \\\n",
       "productId                                                                \n",
       "1400532655            0.0            0.0            0.0            0.0   \n",
       "B000000O48            0.0            0.0            0.0            0.0   \n",
       "B000001OL6            0.0            0.0            0.0            0.0   \n",
       "B000001OMN            0.0            0.0            0.0            0.0   \n",
       "B00000J05A            0.0            0.0            0.0            0.0   \n",
       "\n",
       "userId      AT6CZDCP4TRGA  \n",
       "productId                  \n",
       "1400532655            0.0  \n",
       "B000000O48            0.0  \n",
       "B000001OL6            0.0  \n",
       "B000001OMN            0.0  \n",
       "B00000J05A            0.0  \n",
       "\n",
       "[5 rows x 27 columns]"
      ]
     },
     "execution_count": 19,
     "metadata": {},
     "output_type": "execute_result"
    }
   ],
   "source": [
    "final_ratings_matrix_T = final_ratings_matrix.transpose()\n",
    "final_ratings_matrix_T.head()"
   ]
  },
  {
   "cell_type": "markdown",
   "metadata": {},
   "source": [
    "# #Build Popularity Recommender model. (Non-personalised)¶"
   ]
  },
  {
   "cell_type": "markdown",
   "metadata": {},
   "source": [
    "***so we want to do a count of the user id for each unique product as recommendation score***"
   ]
  },
  {
   "cell_type": "code",
   "execution_count": 20,
   "metadata": {},
   "outputs": [
    {
     "data": {
      "text/html": [
       "<div>\n",
       "<style scoped>\n",
       "    .dataframe tbody tr th:only-of-type {\n",
       "        vertical-align: middle;\n",
       "    }\n",
       "\n",
       "    .dataframe tbody tr th {\n",
       "        vertical-align: top;\n",
       "    }\n",
       "\n",
       "    .dataframe thead th {\n",
       "        text-align: right;\n",
       "    }\n",
       "</style>\n",
       "<table border=\"1\" class=\"dataframe\">\n",
       "  <thead>\n",
       "    <tr style=\"text-align: right;\">\n",
       "      <th></th>\n",
       "      <th>productId</th>\n",
       "      <th>score</th>\n",
       "    </tr>\n",
       "  </thead>\n",
       "  <tbody>\n",
       "    <tr>\n",
       "      <th>0</th>\n",
       "      <td>1400532655</td>\n",
       "      <td>1</td>\n",
       "    </tr>\n",
       "    <tr>\n",
       "      <th>1</th>\n",
       "      <td>B000000O48</td>\n",
       "      <td>1</td>\n",
       "    </tr>\n",
       "    <tr>\n",
       "      <th>2</th>\n",
       "      <td>B000001OL6</td>\n",
       "      <td>1</td>\n",
       "    </tr>\n",
       "    <tr>\n",
       "      <th>3</th>\n",
       "      <td>B000001OMN</td>\n",
       "      <td>1</td>\n",
       "    </tr>\n",
       "    <tr>\n",
       "      <th>4</th>\n",
       "      <td>B00000J05A</td>\n",
       "      <td>1</td>\n",
       "    </tr>\n",
       "  </tbody>\n",
       "</table>\n",
       "</div>"
      ],
      "text/plain": [
       "    productId  score\n",
       "0  1400532655      1\n",
       "1  B000000O48      1\n",
       "2  B000001OL6      1\n",
       "3  B000001OMN      1\n",
       "4  B00000J05A      1"
      ]
     },
     "execution_count": 20,
     "metadata": {},
     "output_type": "execute_result"
    }
   ],
   "source": [
    "\n",
    "Data_new_grouped = Data_new.groupby('productId').agg({'userId': 'count'}).reset_index()\n",
    "Data_new_grouped.rename(columns = {'userId': 'score'},inplace=True)\n",
    "Data_new_grouped.head()"
   ]
  },
  {
   "cell_type": "markdown",
   "metadata": {},
   "source": [
    "The next step now,is to sort the products on recommendation score,\n",
    "\n",
    "also generate a recommendation rank based upon score and get the top 5 recommendations......"
   ]
  },
  {
   "cell_type": "code",
   "execution_count": 21,
   "metadata": {},
   "outputs": [
    {
     "data": {
      "text/html": [
       "<div>\n",
       "<style scoped>\n",
       "    .dataframe tbody tr th:only-of-type {\n",
       "        vertical-align: middle;\n",
       "    }\n",
       "\n",
       "    .dataframe tbody tr th {\n",
       "        vertical-align: top;\n",
       "    }\n",
       "\n",
       "    .dataframe thead th {\n",
       "        text-align: right;\n",
       "    }\n",
       "</style>\n",
       "<table border=\"1\" class=\"dataframe\">\n",
       "  <thead>\n",
       "    <tr style=\"text-align: right;\">\n",
       "      <th></th>\n",
       "      <th>productId</th>\n",
       "      <th>score</th>\n",
       "      <th>Rank</th>\n",
       "    </tr>\n",
       "  </thead>\n",
       "  <tbody>\n",
       "    <tr>\n",
       "      <th>113</th>\n",
       "      <td>B00004SB92</td>\n",
       "      <td>6</td>\n",
       "      <td>1.0</td>\n",
       "    </tr>\n",
       "    <tr>\n",
       "      <th>1099</th>\n",
       "      <td>B00008OE6I</td>\n",
       "      <td>5</td>\n",
       "      <td>2.0</td>\n",
       "    </tr>\n",
       "    <tr>\n",
       "      <th>368</th>\n",
       "      <td>B00005AW1H</td>\n",
       "      <td>4</td>\n",
       "      <td>3.0</td>\n",
       "    </tr>\n",
       "    <tr>\n",
       "      <th>612</th>\n",
       "      <td>B0000645C9</td>\n",
       "      <td>4</td>\n",
       "      <td>4.0</td>\n",
       "    </tr>\n",
       "    <tr>\n",
       "      <th>976</th>\n",
       "      <td>B00007KDVI</td>\n",
       "      <td>4</td>\n",
       "      <td>5.0</td>\n",
       "    </tr>\n",
       "  </tbody>\n",
       "</table>\n",
       "</div>"
      ],
      "text/plain": [
       "       productId  score  Rank\n",
       "113   B00004SB92      6   1.0\n",
       "1099  B00008OE6I      5   2.0\n",
       "368   B00005AW1H      4   3.0\n",
       "612   B0000645C9      4   4.0\n",
       "976   B00007KDVI      4   5.0"
      ]
     },
     "execution_count": 21,
     "metadata": {},
     "output_type": "execute_result"
    }
   ],
   "source": [
    "#Sort the products on recommendation score \n",
    "train_data_sort = Data_new_grouped.sort_values(['score', 'productId'], ascending = [0,1]) \n",
    "      \n",
    "#Generate a recommendation rank based upon score \n",
    "train_data_sort['Rank'] = train_data_sort['score'].rank(ascending=0, method='first') \n",
    "          \n",
    "#Get the top 5 recommendations \n",
    "popularity_recommendations = train_data_sort.head(5) \n",
    "popularity_recommendations "
   ]
  },
  {
   "cell_type": "markdown",
   "metadata": {},
   "source": [
    "## LETS USE THE POPULARITY BASED RECOMMENDER MODEL TO MAKE PREDICTIONS"
   ]
  },
  {
   "cell_type": "code",
   "execution_count": 22,
   "metadata": {},
   "outputs": [],
   "source": [
    "# Use popularity based recommender model to make predictions\n",
    "def recommend(user_id):     \n",
    "    user_recommendations = popularity_recommendations \n",
    "          \n",
    "    #Add user_id column for which the recommendations are being generated \n",
    "    user_recommendations['userId'] = user_id \n",
    "      \n",
    "    #Bring user_id column to the front \n",
    "    cols = user_recommendations.columns.tolist() \n",
    "    cols = cols[-1:] + cols[:-1] \n",
    "    user_recommendations = user_recommendations[cols] \n",
    "          \n",
    "    return user_recommendations "
   ]
  },
  {
   "cell_type": "markdown",
   "metadata": {},
   "source": [
    "   ## USERS CHOICE\n",
    "\n",
    "***The list thats is about to be computed happens to be the users list,..this list will show us the USER ID,***\n",
    "\n",
    "***PRODUCT ID, SCORE AND RANK***"
   ]
  },
  {
   "cell_type": "code",
   "execution_count": 23,
   "metadata": {},
   "outputs": [
    {
     "name": "stdout",
     "output_type": "stream",
     "text": [
      "Here is the recommendation for the userId: 15\n",
      "\n",
      "      userId   productId  score  Rank\n",
      "113       15  B00004SB92      6   1.0\n",
      "1099      15  B00008OE6I      5   2.0\n",
      "368       15  B00005AW1H      4   3.0\n",
      "612       15  B0000645C9      4   4.0\n",
      "976       15  B00007KDVI      4   5.0\n",
      "\n",
      "\n",
      "Here is the recommendation for the userId: 21\n",
      "\n",
      "      userId   productId  score  Rank\n",
      "113       21  B00004SB92      6   1.0\n",
      "1099      21  B00008OE6I      5   2.0\n",
      "368       21  B00005AW1H      4   3.0\n",
      "612       21  B0000645C9      4   4.0\n",
      "976       21  B00007KDVI      4   5.0\n",
      "\n",
      "\n",
      "Here is the recommendation for the userId: 53\n",
      "\n",
      "      userId   productId  score  Rank\n",
      "113       53  B00004SB92      6   1.0\n",
      "1099      53  B00008OE6I      5   2.0\n",
      "368       53  B00005AW1H      4   3.0\n",
      "612       53  B0000645C9      4   4.0\n",
      "976       53  B00007KDVI      4   5.0\n",
      "\n",
      "\n"
     ]
    }
   ],
   "source": [
    "find_recom = [15,21,53]   \n",
    "for i in find_recom:\n",
    "    print(\"Here is the recommendation for the userId: %d\\n\" %(i))\n",
    "    print(recommend(i))    \n",
    "    print(\"\\n\") "
   ]
  },
  {
   "cell_type": "markdown",
   "metadata": {},
   "source": [
    "SO we want to get the number of ratings per product and it would be shown on a line chat fpr a getter visualization"
   ]
  },
  {
   "cell_type": "code",
   "execution_count": 24,
   "metadata": {},
   "outputs": [
    {
     "data": {
      "text/plain": [
       "[<matplotlib.lines.Line2D at 0x21911fe19c8>]"
      ]
     },
     "execution_count": 24,
     "metadata": {},
     "output_type": "execute_result"
    },
    {
     "data": {
      "text/plain": [
       "Text(0.5, 1.0, '# RATINGS per Product')"
      ]
     },
     "execution_count": 24,
     "metadata": {},
     "output_type": "execute_result"
    },
    {
     "data": {
      "text/plain": [
       "Text(0.5, 0, 'Product')"
      ]
     },
     "execution_count": 24,
     "metadata": {},
     "output_type": "execute_result"
    },
    {
     "data": {
      "text/plain": [
       "Text(0, 0.5, 'No of ratings per product')"
      ]
     },
     "execution_count": 24,
     "metadata": {},
     "output_type": "execute_result"
    },
    {
     "data": {
      "text/plain": [
       "[]"
      ]
     },
     "execution_count": 24,
     "metadata": {},
     "output_type": "execute_result"
    },
    {
     "data": {
      "image/png": "[encoded data removed]",
      "text/plain": [
       "<Figure size 576x288 with 1 Axes>"
      ]
     },
     "metadata": {
      "needs_background": "light"
     },
     "output_type": "display_data"
    }
   ],
   "source": [
    "no_of_ratings_per_product = Data_new.groupby(by='productId')['Rating'].count().sort_values(ascending=False)\n",
    "\n",
    "fig = plt.figure(figsize=plt.figaspect(.5))\n",
    "ax = plt.gca()\n",
    "plt.plot(no_of_ratings_per_product.values)\n",
    "plt.title('# RATINGS per Product')\n",
    "plt.xlabel('Product')\n",
    "plt.ylabel('No of ratings per product')\n",
    "ax.set_xticklabels([])\n",
    "\n",
    "plt.show()"
   ]
  },
  {
   "cell_type": "markdown",
   "metadata": {},
   "source": [
    "Now 1 would show the top 30 recommendations for the users,it actually depends on how many you would like,to see\n",
    "\n",
    "but for me i decided the top 30 recommendations and i think thats good enough....\n",
    "\n",
    "so this products are actually the products other users would like to purchase based on its popularity"
   ]
  },
  {
   "cell_type": "code",
   "execution_count": 26,
   "metadata": {},
   "outputs": [
    {
     "data": {
      "text/html": [
       "<div>\n",
       "<style scoped>\n",
       "    .dataframe tbody tr th:only-of-type {\n",
       "        vertical-align: middle;\n",
       "    }\n",
       "\n",
       "    .dataframe tbody tr th {\n",
       "        vertical-align: top;\n",
       "    }\n",
       "\n",
       "    .dataframe thead th {\n",
       "        text-align: right;\n",
       "    }\n",
       "</style>\n",
       "<table border=\"1\" class=\"dataframe\">\n",
       "  <thead>\n",
       "    <tr style=\"text-align: right;\">\n",
       "      <th></th>\n",
       "      <th>Rating</th>\n",
       "    </tr>\n",
       "    <tr>\n",
       "      <th>productId</th>\n",
       "      <th></th>\n",
       "    </tr>\n",
       "  </thead>\n",
       "  <tbody>\n",
       "    <tr>\n",
       "      <th>B00004SB92</th>\n",
       "      <td>6</td>\n",
       "    </tr>\n",
       "    <tr>\n",
       "      <th>B00008OE6I</th>\n",
       "      <td>5</td>\n",
       "    </tr>\n",
       "    <tr>\n",
       "      <th>B00008OE5G</th>\n",
       "      <td>4</td>\n",
       "    </tr>\n",
       "    <tr>\n",
       "      <th>B00005AW1H</th>\n",
       "      <td>4</td>\n",
       "    </tr>\n",
       "    <tr>\n",
       "      <th>B0009RKL5S</th>\n",
       "      <td>4</td>\n",
       "    </tr>\n",
       "    <tr>\n",
       "      <th>B00007KDVI</th>\n",
       "      <td>4</td>\n",
       "    </tr>\n",
       "    <tr>\n",
       "      <th>B0000645C9</th>\n",
       "      <td>4</td>\n",
       "    </tr>\n",
       "    <tr>\n",
       "      <th>B0000AKVHF</th>\n",
       "      <td>4</td>\n",
       "    </tr>\n",
       "    <tr>\n",
       "      <th>B000BKJZ9Q</th>\n",
       "      <td>4</td>\n",
       "    </tr>\n",
       "    <tr>\n",
       "      <th>B00009R6TA</th>\n",
       "      <td>4</td>\n",
       "    </tr>\n",
       "    <tr>\n",
       "      <th>B00006RSJ1</th>\n",
       "      <td>3</td>\n",
       "    </tr>\n",
       "    <tr>\n",
       "      <th>B00006LV79</th>\n",
       "      <td>3</td>\n",
       "    </tr>\n",
       "    <tr>\n",
       "      <th>B00004Z5M1</th>\n",
       "      <td>3</td>\n",
       "    </tr>\n",
       "    <tr>\n",
       "      <th>B00008VF63</th>\n",
       "      <td>3</td>\n",
       "    </tr>\n",
       "    <tr>\n",
       "      <th>B00004ZCJE</th>\n",
       "      <td>3</td>\n",
       "    </tr>\n",
       "    <tr>\n",
       "      <th>B00006HYKM</th>\n",
       "      <td>3</td>\n",
       "    </tr>\n",
       "    <tr>\n",
       "      <th>B000050AQ7</th>\n",
       "      <td>3</td>\n",
       "    </tr>\n",
       "    <tr>\n",
       "      <th>B00005LEN4</th>\n",
       "      <td>3</td>\n",
       "    </tr>\n",
       "    <tr>\n",
       "      <th>B00008ZPNR</th>\n",
       "      <td>3</td>\n",
       "    </tr>\n",
       "    <tr>\n",
       "      <th>B0007QKMQY</th>\n",
       "      <td>3</td>\n",
       "    </tr>\n",
       "    <tr>\n",
       "      <th>B000AZ57M6</th>\n",
       "      <td>3</td>\n",
       "    </tr>\n",
       "    <tr>\n",
       "      <th>B00009RUCH</th>\n",
       "      <td>3</td>\n",
       "    </tr>\n",
       "    <tr>\n",
       "      <th>B00008J639</th>\n",
       "      <td>3</td>\n",
       "    </tr>\n",
       "    <tr>\n",
       "      <th>B0000C4E4S</th>\n",
       "      <td>3</td>\n",
       "    </tr>\n",
       "    <tr>\n",
       "      <th>B00008K4BD</th>\n",
       "      <td>3</td>\n",
       "    </tr>\n",
       "    <tr>\n",
       "      <th>B00005QFZG</th>\n",
       "      <td>3</td>\n",
       "    </tr>\n",
       "    <tr>\n",
       "      <th>B000AJIF4E</th>\n",
       "      <td>3</td>\n",
       "    </tr>\n",
       "    <tr>\n",
       "      <th>B0002L5R78</th>\n",
       "      <td>3</td>\n",
       "    </tr>\n",
       "    <tr>\n",
       "      <th>B0002LEMWE</th>\n",
       "      <td>3</td>\n",
       "    </tr>\n",
       "    <tr>\n",
       "      <th>B00009RL1W</th>\n",
       "      <td>3</td>\n",
       "    </tr>\n",
       "  </tbody>\n",
       "</table>\n",
       "</div>"
      ],
      "text/plain": [
       "            Rating\n",
       "productId         \n",
       "B00004SB92       6\n",
       "B00008OE6I       5\n",
       "B00008OE5G       4\n",
       "B00005AW1H       4\n",
       "B0009RKL5S       4\n",
       "B00007KDVI       4\n",
       "B0000645C9       4\n",
       "B0000AKVHF       4\n",
       "B000BKJZ9Q       4\n",
       "B00009R6TA       4\n",
       "B00006RSJ1       3\n",
       "B00006LV79       3\n",
       "B00004Z5M1       3\n",
       "B00008VF63       3\n",
       "B00004ZCJE       3\n",
       "B00006HYKM       3\n",
       "B000050AQ7       3\n",
       "B00005LEN4       3\n",
       "B00008ZPNR       3\n",
       "B0007QKMQY       3\n",
       "B000AZ57M6       3\n",
       "B00009RUCH       3\n",
       "B00008J639       3\n",
       "B0000C4E4S       3\n",
       "B00008K4BD       3\n",
       "B00005QFZG       3\n",
       "B000AJIF4E       3\n",
       "B0002L5R78       3\n",
       "B0002LEMWE       3\n",
       "B00009RL1W       3"
      ]
     },
     "execution_count": 26,
     "metadata": {},
     "output_type": "execute_result"
    }
   ],
   "source": [
    "most_popular.head(30)"
   ]
  },
  {
   "cell_type": "markdown",
   "metadata": {},
   "source": [
    "This is a visualization as regards the top 30 recommendations....."
   ]
  },
  {
   "cell_type": "code",
   "execution_count": 25,
   "metadata": {},
   "outputs": [
    {
     "data": {
      "text/plain": [
       "<matplotlib.axes._subplots.AxesSubplot at 0x219058f1748>"
      ]
     },
     "execution_count": 25,
     "metadata": {},
     "output_type": "execute_result"
    },
    {
     "data": {
      "image/png": "[encoded data removed]",
      "text/plain": [
       "<Figure size 432x288 with 1 Axes>"
      ]
     },
     "metadata": {
      "needs_background": "light"
     },
     "output_type": "display_data"
    }
   ],
   "source": [
    "\n",
    "\n",
    "popular_products = pd.DataFrame(Data_new.groupby('productId')['Rating'].count())\n",
    "most_popular = popular_products.sort_values('Rating', ascending=False)\n",
    "most_popular.head(30).plot(kind = \"bar\")\n"
   ]
  },
  {
   "cell_type": "markdown",
   "metadata": {},
   "source": [
    "Since this is a popularity-based recommender model, recommendations remain the same for all users which we have\n",
    "\n",
    "given in the input\n",
    "\n",
    "We predict the products based on the popularity. It is not personalized to particular user\n",
    "\n",
    "But take note that,now we have seen this that the popularity based recommender is non personalised and the\n",
    "\n",
    "recmmendations are based on frequency counts which may not be entirely suitable to the user,but nonetheless its \n",
    "\n",
    "still good enough for a recommender system\n",
    "\n",
    "As time goes on i would ensure i build another reommendation system that will bring more satisfaction to the users\n",
    "\n",
    "i hope i have being able to open your eyes to some little adjustments and also express my knowledge as regards \n",
    "\n",
    "reommender systems abit.....\n",
    "\n",
    "\n",
    "***I AM OLANIPEKUN TEMITOPE,(mL engineer and Data analyst)***\n"
   ]
  },
  {
   "cell_type": "code",
   "execution_count": null,
   "metadata": {},
   "outputs": [],
   "source": []
  },
  {
   "cell_type": "markdown",
   "metadata": {},
   "source": [
    "***I would conitnue with this shortly***\n",
    "\n",
    "Using collaborative filtering using KNN and SVD"
   ]
  },
  {
   "cell_type": "markdown",
   "metadata": {},
   "source": [
    "# ****collaborative Filtering using KNN****"
   ]
  },
  {
   "cell_type": "code",
   "execution_count": 1,
   "metadata": {},
   "outputs": [],
   "source": [
    "from surprise import KNNWithMeans\n",
    "from surprise import Dataset\n",
    "from surprise import accuracy\n",
    "from surprise import Reader\n",
    "import os\n",
    "from surprise.model_selection import train_test_split\n",
    "from collections import defaultdict"
   ]
  },
  {
   "cell_type": "code",
   "execution_count": null,
   "metadata": {},
   "outputs": [],
   "source": [
    "#Reading the dataset\n",
    "reader = Reader(rating_scale=(1, 5))\n",
    "data1 = Dataset.load_from_df(Data_new,reader)\n",
    "data1"
   ]
  },
  {
   "cell_type": "code",
   "execution_count": null,
   "metadata": {},
   "outputs": [],
   "source": []
  },
  {
   "cell_type": "code",
   "execution_count": null,
   "metadata": {},
   "outputs": [],
   "source": []
  },
  {
   "cell_type": "code",
   "execution_count": null,
   "metadata": {},
   "outputs": [],
   "source": []
  },
  {
   "cell_type": "code",
   "execution_count": null,
   "metadata": {},
   "outputs": [],
   "source": []
  }
 ],
 "metadata": {
  "kernelspec": {
   "display_name": "Python 3",
   "language": "python",
   "name": "python3"
  },
  "language_info": {
   "codemirror_mode": {
    "name": "ipython",
    "version": 3
   },
   "file_extension": ".py",
   "mimetype": "text/x-python",
   "name": "python",
   "nbconvert_exporter": "python",
   "pygments_lexer": "ipython3",
   "version": "3.7.6"
  }
 },
 "nbformat": 4,
 "nbformat_minor": 4
}
